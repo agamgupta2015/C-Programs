{
  "nbformat": 4,
  "nbformat_minor": 0,
  "metadata": {
    "colab": {
      "name": "python bootcamp day 2.ipynb",
      "provenance": [],
      "include_colab_link": true
    },
    "kernelspec": {
      "name": "python3",
      "display_name": "Python 3"
    }
  },
  "cells": [
    {
      "cell_type": "markdown",
      "metadata": {
        "id": "view-in-github",
        "colab_type": "text"
      },
      "source": [
        "<a href=\"https://colab.research.google.com/github/agamgupta2015/C-Programs/blob/master/python_bootcamp_day_2.ipynb\" target=\"_parent\"><img src=\"https://colab.research.google.com/assets/colab-badge.svg\" alt=\"Open In Colab\"/></a>"
      ]
    },
    {
      "cell_type": "code",
      "metadata": {
        "id": "8OukDMuMhKn2"
      },
      "source": [
        "#python flow control"
      ],
      "execution_count": 1,
      "outputs": []
    },
    {
      "cell_type": "code",
      "metadata": {
        "id": "qoLvF5HNiPpa"
      },
      "source": [
        "#condition statement\r\n",
        "# if else statements\r\n",
        "\r\n",
        "# if condition :\r\n",
        "#     statements\r\n",
        "# elif condition:\r\n",
        "#   statement\r\n",
        "# else consition:\r\n",
        "#   statement"
      ],
      "execution_count": 3,
      "outputs": []
    },
    {
      "cell_type": "code",
      "metadata": {
        "colab": {
          "base_uri": "https://localhost:8080/"
        },
        "id": "2C3DeMknitPx",
        "outputId": "dec8fe54-0ddd-4105-83d9-ae23a4f0d312"
      },
      "source": [
        "num=-3\r\n",
        "if num>0:    #true\r\n",
        "  print(num , \"is a positive number\")\r\n",
        "else :\r\n",
        "  print(num, \"is a negetive number\")\r\n",
        "\r\n"
      ],
      "execution_count": 4,
      "outputs": [
        {
          "output_type": "stream",
          "text": [
            "-3 is a negetive number\n"
          ],
          "name": "stdout"
        }
      ]
    },
    {
      "cell_type": "code",
      "metadata": {
        "colab": {
          "base_uri": "https://localhost:8080/"
        },
        "id": "M4A5LvrPjDYr",
        "outputId": "e35dccac-2410-432a-d6e4-1c2146fbff6d"
      },
      "source": [
        "num=0\r\n",
        " \r\n",
        "if num>0:\r\n",
        "  print(\"postive number\")\r\n",
        "elif num==0:\r\n",
        "  print(0)\r\n",
        "else:\r\n",
        "  print(\"negetiive number\")"
      ],
      "execution_count": 5,
      "outputs": [
        {
          "output_type": "stream",
          "text": [
            "0\n"
          ],
          "name": "stdout"
        }
      ]
    },
    {
      "cell_type": "code",
      "metadata": {
        "colab": {
          "base_uri": "https://localhost:8080/"
        },
        "id": "MmCjn8whja2p",
        "outputId": "f348334b-430b-473e-a6f5-ef71796d203b"
      },
      "source": [
        "#nested if else statement\r\n",
        "num=5\r\n",
        "\r\n",
        "if num>0 :\r\n",
        "  if num>10:\r\n",
        "    print(\"greater than 10\")\r\n",
        "  else:\r\n",
        "    print(\"less than 10\")\r\n",
        "else :\r\n",
        "  if num<-10:\r\n",
        "    print(\"less than -10\")\r\n",
        "  else:\r\n",
        "    print(\"greater than -10\")\r\n"
      ],
      "execution_count": 6,
      "outputs": [
        {
          "output_type": "stream",
          "text": [
            "less than 10\n"
          ],
          "name": "stdout"
        }
      ]
    },
    {
      "cell_type": "code",
      "metadata": {
        "colab": {
          "base_uri": "https://localhost:8080/"
        },
        "id": "gdlPcGMzj4PC",
        "outputId": "867bd25f-9c0f-45a6-a599-c3e2a68ef5b8"
      },
      "source": [
        "# # #python loops\r\n",
        "# # 2 types of loops in python\r\n",
        "# # for loop and while loop\r\n",
        "\r\n",
        "\r\n",
        "# for loop\r\n",
        "\r\n",
        "s=\"string\"\r\n",
        "for character in s:\r\n",
        "  print(character)"
      ],
      "execution_count": 7,
      "outputs": [
        {
          "output_type": "stream",
          "text": [
            "s\n",
            "t\n",
            "r\n",
            "i\n",
            "n\n",
            "g\n"
          ],
          "name": "stdout"
        }
      ]
    },
    {
      "cell_type": "code",
      "metadata": {
        "colab": {
          "base_uri": "https://localhost:8080/"
        },
        "id": "CuIE_fFhkZlw",
        "outputId": "4835c729-2a43-40aa-8e63-f4115f9be928"
      },
      "source": [
        "a=[1,2,3,4,5]\r\n",
        "\r\n",
        "for num in a:\r\n",
        "  print(2*num)\r\n"
      ],
      "execution_count": 8,
      "outputs": [
        {
          "output_type": "stream",
          "text": [
            "2\n",
            "4\n",
            "6\n",
            "8\n",
            "10\n"
          ],
          "name": "stdout"
        }
      ]
    },
    {
      "cell_type": "code",
      "metadata": {
        "colab": {
          "base_uri": "https://localhost:8080/"
        },
        "id": "kF53qKorkl6N",
        "outputId": "ed53eea8-03f2-4de6-ebc5-820fadae67f8"
      },
      "source": [
        "a=[10,20,30,40,50]\r\n",
        "  # 0  1  2  3  4\r\n",
        "\r\n",
        "print(a[0])\r\n",
        "print(a[4])\r\n",
        "\r\n",
        "print()\r\n",
        "\r\n",
        "for id,num in enumerate(a):\r\n",
        "  print(id, num, sep=' ')"
      ],
      "execution_count": 9,
      "outputs": [
        {
          "output_type": "stream",
          "text": [
            "10\n",
            "50\n",
            "\n",
            "0 10\n",
            "1 20\n",
            "2 30\n",
            "3 40\n",
            "4 50\n"
          ],
          "name": "stdout"
        }
      ]
    },
    {
      "cell_type": "code",
      "metadata": {
        "colab": {
          "base_uri": "https://localhost:8080/"
        },
        "id": "EU5JPWYRk1oC",
        "outputId": "7cbb5ef9-b925-451c-b149-d400e29e97b1"
      },
      "source": [
        "print(list(range(10)))   #range function in python\r\n",
        "\r\n",
        "for i in range(5,21,5):\r\n",
        "  print (i)\r\n"
      ],
      "execution_count": 10,
      "outputs": [
        {
          "output_type": "stream",
          "text": [
            "[0, 1, 2, 3, 4, 5, 6, 7, 8, 9]\n",
            "5\n",
            "10\n",
            "15\n",
            "20\n"
          ],
          "name": "stdout"
        }
      ]
    },
    {
      "cell_type": "code",
      "metadata": {
        "id": "5C0tN9MBlRqQ"
      },
      "source": [
        "# # #while statement\r\n",
        "# # it is used to iterate over a block of code till the statement is true\r\n",
        "\r\n",
        "#while condition:\r\n",
        "#   statement\r\n",
        " \r\n"
      ],
      "execution_count": 11,
      "outputs": []
    },
    {
      "cell_type": "code",
      "metadata": {
        "colab": {
          "base_uri": "https://localhost:8080/"
        },
        "id": "OIBg-ekFl7Vi",
        "outputId": "a785e1ec-e9c4-4639-9466-b901e33067bd"
      },
      "source": [
        "i=0\r\n",
        "a=[1,2,3,4,5]\r\n",
        "\r\n",
        "print(len(a))\r\n",
        "print()\r\n",
        "sum=0\r\n",
        "while i<len(a):\r\n",
        "  print(a[i])\r\n",
        "  sum=sum+a[i]\r\n",
        "  i=i+1\r\n",
        "\r\n",
        "\r\n",
        "print(sum)"
      ],
      "execution_count": 12,
      "outputs": [
        {
          "output_type": "stream",
          "text": [
            "5\n",
            "\n",
            "1\n",
            "2\n",
            "3\n",
            "4\n",
            "5\n",
            "15\n"
          ],
          "name": "stdout"
        }
      ]
    },
    {
      "cell_type": "code",
      "metadata": {
        "colab": {
          "base_uri": "https://localhost:8080/"
        },
        "id": "Wy-jiW3YmGC5",
        "outputId": "cdf4811b-a215-441d-9ad6-ee09048f4269"
      },
      "source": [
        "#break continue and pass\r\n",
        "#break statement if used to break the execution of the for/while loop and come out of the loop\r\n",
        "\r\n",
        "\r\n",
        "for i in range(10):\r\n",
        "  if i==9:\r\n",
        "    break\r\n",
        "  print(i)\r\n",
        "\r\n",
        "\r\n",
        "print(\"break statement executed\")"
      ],
      "execution_count": 13,
      "outputs": [
        {
          "output_type": "stream",
          "text": [
            "0\n",
            "1\n",
            "2\n",
            "3\n",
            "4\n",
            "5\n",
            "6\n",
            "7\n",
            "8\n",
            "break statement executed\n"
          ],
          "name": "stdout"
        }
      ]
    },
    {
      "cell_type": "code",
      "metadata": {
        "colab": {
          "base_uri": "https://localhost:8080/"
        },
        "id": "pZ7T-En-mTrO",
        "outputId": "5bf6e5e1-28c6-4be1-ddee-33668daf502b"
      },
      "source": [
        "#continue statement is used to trnasfer the execution of the loop to the next iteration . it skips the execution of that particular code if contiue statement is met\r\n",
        "\r\n",
        "for i in range(10):\r\n",
        "  if i==5:\r\n",
        "    continue\r\n",
        "  print(i)"
      ],
      "execution_count": 14,
      "outputs": [
        {
          "output_type": "stream",
          "text": [
            "0\n",
            "1\n",
            "2\n",
            "3\n",
            "4\n",
            "6\n",
            "7\n",
            "8\n",
            "9\n"
          ],
          "name": "stdout"
        }
      ]
    },
    {
      "cell_type": "code",
      "metadata": {
        "colab": {
          "base_uri": "https://localhost:8080/"
        },
        "id": "uPRx9hPhnPAH",
        "outputId": "cfed876e-5c2f-4590-f6c8-7d206b7d0c7d"
      },
      "source": [
        "a=[1,2,3,4,5]\r\n",
        "for i in a:\r\n",
        "  pass\r\n",
        "\r\n",
        "print(\"pass statement was executed\")"
      ],
      "execution_count": 15,
      "outputs": [
        {
          "output_type": "stream",
          "text": [
            "pass statement was executed\n"
          ],
          "name": "stdout"
        }
      ]
    },
    {
      "cell_type": "code",
      "metadata": {
        "colab": {
          "base_uri": "https://localhost:8080/"
        },
        "id": "CLWQkif_nlok",
        "outputId": "72e82c8e-6266-4e34-9986-849b9378051d"
      },
      "source": [
        "#print all even numbers in the list\r\n",
        "a=[23,56,12,45,90]\r\n",
        "\r\n",
        "for i in a:\r\n",
        "  if i%2==0:\r\n",
        "    print(i)\r\n"
      ],
      "execution_count": 16,
      "outputs": [
        {
          "output_type": "stream",
          "text": [
            "56\n",
            "12\n",
            "90\n"
          ],
          "name": "stdout"
        }
      ]
    },
    {
      "cell_type": "code",
      "metadata": {
        "colab": {
          "base_uri": "https://localhost:8080/"
        },
        "id": "cfDd7tfypDnU",
        "outputId": "811ed1da-683e-4344-8dc8-89c2cb2829e4"
      },
      "source": [
        "#take a num input from the user and print its binary form\r\n",
        "# 10 = 1010\r\n",
        "# 2=10\r\n",
        "# 3=11\r\n",
        "# 4=100\r\n",
        "\r\n",
        "n=(int)(input())\r\n",
        "print(bin(n))"
      ],
      "execution_count": 17,
      "outputs": [
        {
          "output_type": "stream",
          "text": [
            "13\n",
            "0b1101\n"
          ],
          "name": "stdout"
        }
      ]
    },
    {
      "cell_type": "code",
      "metadata": {
        "colab": {
          "base_uri": "https://localhost:8080/"
        },
        "id": "qF2KaPNvqRPj",
        "outputId": "8976908e-33d1-41d7-ecfa-1fd329552590"
      },
      "source": [
        "num=(int)(input())\r\n",
        "s=\"\"\r\n",
        "\r\n",
        "while num>0:\r\n",
        "  s=s+(str)(num%2)\r\n",
        "  num=num//2\r\n",
        "\r\n",
        "print(s)\r\n",
        "print(\"Binary equal to : \" +s[::-1])  #slicing"
      ],
      "execution_count": 20,
      "outputs": [
        {
          "output_type": "stream",
          "text": [
            "15\n",
            "1111\n",
            "Binary equal to : 1111\n"
          ],
          "name": "stdout"
        }
      ]
    },
    {
      "cell_type": "code",
      "metadata": {
        "id": "v0uz_dESqcrk"
      },
      "source": [
        "# #python functions\r\n",
        "# a function is a group of statement that perform a particular type of task\r\n",
        "# it is used so thta a particular kind of repetitive task can be performed again and again without rewriting the code\r\n"
      ],
      "execution_count": 22,
      "outputs": []
    },
    {
      "cell_type": "code",
      "metadata": {
        "id": "_a2blPkirLBR"
      },
      "source": [
        "# def function_name(parameter):\r\n",
        "#   \"doctring\"\r\n",
        "#   statements\r\n",
        "\r\n",
        "\r\n",
        "def addition():\r\n",
        "  a=10\r\n",
        "  b=20\r\n",
        "  print(a+b)"
      ],
      "execution_count": 21,
      "outputs": []
    },
    {
      "cell_type": "code",
      "metadata": {
        "colab": {
          "base_uri": "https://localhost:8080/"
        },
        "id": "WJAEAAdYrhVF",
        "outputId": "af8f89b9-1dca-46e2-937a-e8d380ef9646"
      },
      "source": [
        "addition()"
      ],
      "execution_count": 23,
      "outputs": [
        {
          "output_type": "stream",
          "text": [
            "30\n"
          ],
          "name": "stdout"
        }
      ]
    },
    {
      "cell_type": "code",
      "metadata": {
        "id": "gM21dpWQrq-c"
      },
      "source": [
        "def addition(num1,num2):#num1 and num2 are the parameter that are provided by the user\r\n",
        "    ''' it takes two numbers as parameter and return the sum  '''\r\n",
        "    print(num1+num2)"
      ],
      "execution_count": 24,
      "outputs": []
    },
    {
      "cell_type": "code",
      "metadata": {
        "colab": {
          "base_uri": "https://localhost:8080/"
        },
        "id": "oe2d0t1bsCCR",
        "outputId": "6a1cc706-8a6b-43d5-cfe8-7fafe11b6b2a"
      },
      "source": [
        "addition(1,2)\r\n",
        "addition(10,23)"
      ],
      "execution_count": 25,
      "outputs": [
        {
          "output_type": "stream",
          "text": [
            "3\n",
            "33\n"
          ],
          "name": "stdout"
        }
      ]
    },
    {
      "cell_type": "code",
      "metadata": {
        "colab": {
          "base_uri": "https://localhost:8080/",
          "height": 35
        },
        "id": "VV4yKmNQsF5K",
        "outputId": "98b5ddf9-2123-4d5d-c93e-70a495340bcf"
      },
      "source": [
        "addition.__doc__"
      ],
      "execution_count": 26,
      "outputs": [
        {
          "output_type": "execute_result",
          "data": {
            "application/vnd.google.colaboratory.intrinsic+json": {
              "type": "string"
            },
            "text/plain": [
              "' it takes two numbers as parameter and return the sum  '"
            ]
          },
          "metadata": {
            "tags": []
          },
          "execution_count": 26
        }
      ]
    },
    {
      "cell_type": "code",
      "metadata": {
        "id": "Aaqb7vM-sowK"
      },
      "source": [
        "#user passed parameters and oteher is default parameter\r\n",
        "\r\n",
        "def greet(name,msg=\"good morning\"):\r\n",
        "  print(name, msg,sep=\" \")"
      ],
      "execution_count": 27,
      "outputs": []
    },
    {
      "cell_type": "code",
      "metadata": {
        "colab": {
          "base_uri": "https://localhost:8080/"
        },
        "id": "YPRJmS5Gs0hx",
        "outputId": "a40677c1-dcd6-478f-826d-53af3df09931"
      },
      "source": [
        "greet(\"srk\")\r\n",
        "greet(\"hello\",\"how are you\")"
      ],
      "execution_count": 28,
      "outputs": [
        {
          "output_type": "stream",
          "text": [
            "srk good morning\n",
            "hello how are you\n"
          ],
          "name": "stdout"
        }
      ]
    },
    {
      "cell_type": "code",
      "metadata": {
        "id": "wUnsv1BFs5w-"
      },
      "source": [
        ""
      ],
      "execution_count": null,
      "outputs": []
    }
  ]
}