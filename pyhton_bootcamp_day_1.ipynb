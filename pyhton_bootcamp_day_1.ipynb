{
  "nbformat": 4,
  "nbformat_minor": 0,
  "metadata": {
    "colab": {
      "name": "pyhton  bootcamp day 1.ipynb",
      "provenance": [],
      "include_colab_link": true
    },
    "kernelspec": {
      "name": "python3",
      "display_name": "Python 3"
    }
  },
  "cells": [
    {
      "cell_type": "markdown",
      "metadata": {
        "id": "view-in-github",
        "colab_type": "text"
      },
      "source": [
        "<a href=\"https://colab.research.google.com/github/agamgupta2015/C-Programs/blob/master/pyhton_bootcamp_day_1.ipynb\" target=\"_parent\"><img src=\"https://colab.research.google.com/assets/colab-badge.svg\" alt=\"Open In Colab\"/></a>"
      ]
    },
    {
      "cell_type": "code",
      "metadata": {
        "colab": {
          "base_uri": "https://localhost:8080/"
        },
        "id": "iYl033LWX58_",
        "outputId": "b70d9711-cca5-4745-f5d8-0b556019e0ea"
      },
      "source": [
        "#taking input form the user\r\n",
        "(int)(input())"
      ],
      "execution_count": 1,
      "outputs": [
        {
          "output_type": "stream",
          "text": [
            "12\n"
          ],
          "name": "stdout"
        },
        {
          "output_type": "execute_result",
          "data": {
            "text/plain": [
              "12"
            ]
          },
          "metadata": {
            "tags": []
          },
          "execution_count": 1
        }
      ]
    },
    {
      "cell_type": "code",
      "metadata": {
        "id": "mUG0kc9DZmnN"
      },
      "source": [
        "#data types:- int float double string list dictionary\r\n",
        "#int :- 1 2 3 4 5\r\n",
        "# float:- 1.1 3.3456 \r\n",
        "#string :- abcd xyc 1234xyz\r\n",
        "#list : [1,2 3]\r\n",
        "#dictionary: {1:2 , 3:4}"
      ],
      "execution_count": 2,
      "outputs": []
    },
    {
      "cell_type": "code",
      "metadata": {
        "colab": {
          "base_uri": "https://localhost:8080/"
        },
        "id": "GEW8QtPiaY0v",
        "outputId": "3d17e708-fef1-4ace-9fee-6407fcdaf4f2"
      },
      "source": [
        "a=(int)(input())  # a is the available\r\n",
        "print(a)\r\n",
        "print(type(a))"
      ],
      "execution_count": 3,
      "outputs": [
        {
          "output_type": "stream",
          "text": [
            "13\n",
            "13\n",
            "<class 'int'>\n"
          ],
          "name": "stdout"
        }
      ]
    },
    {
      "cell_type": "code",
      "metadata": {
        "colab": {
          "base_uri": "https://localhost:8080/"
        },
        "id": "PjY2AWKRabLq",
        "outputId": "b82b1a90-6235-4156-e8b4-e89ea2092b2e"
      },
      "source": [
        "print(1,2,3)\r\n",
        "print(1,2,3,sep=\",\",end=\"!!\")\r\n",
        "print(1)\r\n",
        "\r\n",
        "a=1\r\n",
        "b=2\r\n",
        "c=3\r\n",
        "print(a,b,c,end=\"\\n\",sep=\":\")"
      ],
      "execution_count": 4,
      "outputs": [
        {
          "output_type": "stream",
          "text": [
            "1 2 3\n",
            "1,2,3!!1\n",
            "1:2:3\n"
          ],
          "name": "stdout"
        }
      ]
    },
    {
      "cell_type": "code",
      "metadata": {
        "id": "BLZ6C24lbRGX"
      },
      "source": [
        "#variable \r\n",
        "\r\n",
        "#variable_name= assign_value\r\n",
        "a=10  #integer variable\r\n",
        "b=10.6 # float variable\r\n",
        "c=\"hello world\" #string variable\r\n",
        "d=1,2,3,4   #list datatype"
      ],
      "execution_count": 5,
      "outputs": []
    },
    {
      "cell_type": "code",
      "metadata": {
        "colab": {
          "base_uri": "https://localhost:8080/"
        },
        "id": "pOVtpaOwcnfA",
        "outputId": "2c987ed8-7a6e-44ba-a5c8-1bac95aef485"
      },
      "source": [
        "print(a)\r\n",
        "print(b)\r\n",
        "print(c)\r\n",
        "print(d)"
      ],
      "execution_count": 6,
      "outputs": [
        {
          "output_type": "stream",
          "text": [
            "10\n",
            "10.6\n",
            "hello world\n",
            "(1, 2, 3, 4)\n"
          ],
          "name": "stdout"
        }
      ]
    },
    {
      "cell_type": "code",
      "metadata": {
        "id": "4VgibKAtcoBs"
      },
      "source": [
        "multiple_word=10\r\n",
        "var_1=10"
      ],
      "execution_count": 7,
      "outputs": []
    },
    {
      "cell_type": "code",
      "metadata": {
        "colab": {
          "base_uri": "https://localhost:8080/"
        },
        "id": "mcnTlnxXc36d",
        "outputId": "ff39b2f8-744f-439a-9e08-807e4bdfb68b"
      },
      "source": [
        "a=10\r\n",
        "a=a+3\r\n",
        "print(a)"
      ],
      "execution_count": 8,
      "outputs": [
        {
          "output_type": "stream",
          "text": [
            "13\n"
          ],
          "name": "stdout"
        }
      ]
    },
    {
      "cell_type": "code",
      "metadata": {
        "id": "Az47_SigdyF3"
      },
      "source": [
        "a1,a2,a3=range(3)    "
      ],
      "execution_count": 12,
      "outputs": []
    },
    {
      "cell_type": "code",
      "metadata": {
        "colab": {
          "base_uri": "https://localhost:8080/"
        },
        "id": "xHNDYEO6d2yV",
        "outputId": "47f93931-5b52-4a85-b8e3-d8c96d364b92"
      },
      "source": [
        "print(a1,a2,a3)\r\n",
        "print(a1)\r\n",
        "print(a2)"
      ],
      "execution_count": 13,
      "outputs": [
        {
          "output_type": "stream",
          "text": [
            "0 1 2\n",
            "0\n",
            "1\n"
          ],
          "name": "stdout"
        }
      ]
    },
    {
      "cell_type": "code",
      "metadata": {
        "colab": {
          "base_uri": "https://localhost:8080/"
        },
        "id": "xQkR7Z_Wd5rP",
        "outputId": "b7dc3713-fa8f-4301-b1c9-e27cd9c2faca"
      },
      "source": [
        "for i in range(3):\r\n",
        "  print(i)"
      ],
      "execution_count": 14,
      "outputs": [
        {
          "output_type": "stream",
          "text": [
            "0\n",
            "1\n",
            "2\n"
          ],
          "name": "stdout"
        }
      ]
    },
    {
      "cell_type": "code",
      "metadata": {
        "colab": {
          "base_uri": "https://localhost:8080/"
        },
        "id": "zy-Mjoy8d7uC",
        "outputId": "e6679172-0cb1-45cc-fad5-5577e0996d67"
      },
      "source": [
        "#strigs are sequences of characters!! anythong can be considered as a string\r\n",
        "a=\"123xyz\"\r\n",
        "b=\"srk\"\r\n",
        "c='abcd'\r\n",
        "d='''pqrst'''\r\n",
        "\r\n",
        "print(a,b,c,d,sep=\"  \")\r\n",
        "print(type(a))\r\n",
        "print(type(b))\r\n",
        "print(type(c))\r\n",
        "print(type(d))\r\n"
      ],
      "execution_count": 15,
      "outputs": [
        {
          "output_type": "stream",
          "text": [
            "123xyz  srk  abcd  pqrst\n",
            "<class 'str'>\n",
            "<class 'str'>\n",
            "<class 'str'>\n",
            "<class 'str'>\n"
          ],
          "name": "stdout"
        }
      ]
    },
    {
      "cell_type": "code",
      "metadata": {
        "colab": {
          "base_uri": "https://localhost:8080/"
        },
        "id": "Hb7OTkRceqVd",
        "outputId": "219aefce-f1c5-4b34-f0a6-b67a518eb89a"
      },
      "source": [
        "a='''a bcd   \r\n",
        "ajieo'''\r\n",
        "\r\n",
        "\r\n",
        "#triple quotes work when the value of the variable is in multiple lines !! for the same line u can use single or dohble quotes\r\n",
        "print(a)"
      ],
      "execution_count": 16,
      "outputs": [
        {
          "output_type": "stream",
          "text": [
            "a bcd   \n",
            "ajieo\n"
          ],
          "name": "stdout"
        }
      ]
    },
    {
      "cell_type": "code",
      "metadata": {
        "id": "vjmddWSmfIBx",
        "outputId": "37e5479d-9012-4d9a-8df6-e570c6daf9a5",
        "colab": {
          "base_uri": "https://localhost:8080/"
        }
      },
      "source": [
        "'''\r\n",
        "  this is a muliplt line \r\n",
        "  comment\r\n",
        "'''\r\n",
        "\r\n",
        "a=10\r\n",
        "b=20      #select everything u want to comment and pressed ctrl+/\r\n",
        "c=10\r\n",
        "\r\n",
        "\r\n",
        "print(a)\r\n",
        "print(b)\r\n",
        "print(c) #hey this a multiple line edit using alt in keyboard\r\n",
        " \r\n",
        " \r\n",
        "\r\n",
        "\r\n"
      ],
      "execution_count": 17,
      "outputs": [
        {
          "output_type": "stream",
          "text": [
            "10\n",
            "20\n",
            "10\n"
          ],
          "name": "stdout"
        }
      ]
    },
    {
      "cell_type": "code",
      "metadata": {
        "colab": {
          "base_uri": "https://localhost:8080/"
        },
        "id": "Ublz8BBOgcQR",
        "outputId": "f9b73bae-e588-4c7d-d2f4-8c6e35b9eeac"
      },
      "source": [
        "\"abcde\".index(\"cd\")\r\n",
        "#01234\r\n",
        "\r\n",
        "# length :- 5\r\n",
        "# indexing start from 0 and does till 4 (n-1)\r\n",
        "\r\n",
        "s=\"abcde\"\r\n",
        "print(s.index(\"d\"))   #index of the position of the substring in the string\r\n",
        "\r\n",
        "\r\n",
        "\r\n",
        "print(\"f\" in \"india\")\r\n",
        "\r\n",
        "if \"a\" in s:\r\n",
        "  print(s.index(\"a\"))\r\n",
        "else:\r\n",
        "  print(\"not present\")\r\n"
      ],
      "execution_count": 18,
      "outputs": [
        {
          "output_type": "stream",
          "text": [
            "3\n",
            "False\n",
            "0\n"
          ],
          "name": "stdout"
        }
      ]
    },
    {
      "cell_type": "code",
      "metadata": {
        "colab": {
          "base_uri": "https://localhost:8080/"
        },
        "id": "1_Sg89O1gf0L",
        "outputId": "01d2fe9d-393a-4acd-a86c-a2be53a8a198"
      },
      "source": [
        "[\"1\",\"2\",\"3\"]\r\n",
        "\"1 2 3\"\r\n",
        "\r\n",
        "combined_string=\"/\".join([\"22\",\"02\",\"2021\"])\r\n",
        "print(combined_string)"
      ],
      "execution_count": 19,
      "outputs": [
        {
          "output_type": "stream",
          "text": [
            "22/02/2021\n"
          ],
          "name": "stdout"
        }
      ]
    },
    {
      "cell_type": "code",
      "metadata": {
        "colab": {
          "base_uri": "https://localhost:8080/"
        },
        "id": "obtm0YVXiG_d",
        "outputId": "ace8e8ec-80c7-4062-bcf1-845111dcb292"
      },
      "source": [
        "combined_string.split(\"/\")"
      ],
      "execution_count": 20,
      "outputs": [
        {
          "output_type": "execute_result",
          "data": {
            "text/plain": [
              "['22', '02', '2021']"
            ]
          },
          "metadata": {
            "tags": []
          },
          "execution_count": 20
        }
      ]
    },
    {
      "cell_type": "code",
      "metadata": {
        "id": "6SKKoGhNiOlr"
      },
      "source": [
        "a=\"hey my name is rahul\"\r\n",
        "a=a.split(\" \")"
      ],
      "execution_count": 21,
      "outputs": []
    },
    {
      "cell_type": "code",
      "metadata": {
        "colab": {
          "base_uri": "https://localhost:8080/",
          "height": 35
        },
        "id": "VUdm2bejieuQ",
        "outputId": "fb02d051-fe8a-4b9c-aade-f6008aefbfd8"
      },
      "source": [
        "\" \".join(a)"
      ],
      "execution_count": 22,
      "outputs": [
        {
          "output_type": "execute_result",
          "data": {
            "application/vnd.google.colaboratory.intrinsic+json": {
              "type": "string"
            },
            "text/plain": [
              "'hey my name is rahul'"
            ]
          },
          "metadata": {
            "tags": []
          },
          "execution_count": 22
        }
      ]
    },
    {
      "cell_type": "code",
      "metadata": {
        "colab": {
          "base_uri": "https://localhost:8080/"
        },
        "id": "Drq_0L_RifMS",
        "outputId": "d8030b1c-2ff8-4fbf-cb1c-76e01b70b786"
      },
      "source": [
        "numbers=[1,2,3,4]\r\n",
        "\r\n",
        "def func(n):\r\n",
        "  return n*2\r\n",
        "\r\n",
        "result=map(func,numbers)\r\n",
        "print(list(result))"
      ],
      "execution_count": 23,
      "outputs": [
        {
          "output_type": "stream",
          "text": [
            "[2, 4, 6, 8]\n"
          ],
          "name": "stdout"
        }
      ]
    },
    {
      "cell_type": "code",
      "metadata": {
        "colab": {
          "base_uri": "https://localhost:8080/"
        },
        "id": "-JvjDavki_uf",
        "outputId": "bb7c71bd-1bd8-4c47-8bbc-f8078efd757a"
      },
      "source": [
        "print(bool(\"\"))\r\n",
        "print(bool(\"truth value\"))"
      ],
      "execution_count": 24,
      "outputs": [
        {
          "output_type": "stream",
          "text": [
            "False\n",
            "True\n"
          ],
          "name": "stdout"
        }
      ]
    },
    {
      "cell_type": "code",
      "metadata": {
        "colab": {
          "base_uri": "https://localhost:8080/"
        },
        "id": "Krcj5d-zjy-o",
        "outputId": "9a260f8f-fabf-4805-ae3a-b472fc29d8b2"
      },
      "source": [
        "a=\"abcdefg\"  \r\n",
        "print(a[0])\r\n",
        "print(a[2])\r\n",
        "print(a[5])\r\n",
        "print(a[-1])\r\n",
        "print(a[-2])\r\n",
        "print(a[2:5])   #start at 2 and go until 5 not included\r\n",
        "                #slicing "
      ],
      "execution_count": 25,
      "outputs": [
        {
          "output_type": "stream",
          "text": [
            "a\n",
            "c\n",
            "f\n",
            "g\n",
            "f\n",
            "cde\n"
          ],
          "name": "stdout"
        }
      ]
    },
    {
      "cell_type": "code",
      "metadata": {
        "id": "a2byi8LMj9x3"
      },
      "source": [
        ""
      ],
      "execution_count": null,
      "outputs": []
    }
  ]
}